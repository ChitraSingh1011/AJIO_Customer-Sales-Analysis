{
 "cells": [
  {
   "cell_type": "markdown",
   "id": "1719fa80-e3f8-4579-a024-98d133ec1cd1",
   "metadata": {},
   "source": [
    "# Ajio_Customer & Sales Analysis <img src=\"Ajio.png\" width=\"60\"/>\n",
    "\n"
   ]
  },
  {
   "cell_type": "code",
   "execution_count": 39,
   "id": "3cffb292-836c-4a6f-863c-9736cb6c17eb",
   "metadata": {},
   "outputs": [],
   "source": [
    "import pandas as pd\n",
    "import matplotlib.pyplot as plt\n",
    "import seaborn as sns\n"
   ]
  },
  {
   "cell_type": "code",
   "execution_count": 40,
   "id": "0a6243ad-4890-4887-84d6-d73663d61f98",
   "metadata": {},
   "outputs": [],
   "source": [
    "customer = pd.read_csv(\"customer.csv\")\n",
    "orders = pd.read_csv(\"orders.csv\")\n",
    "products = pd.read_csv(\"products.csv\")\n",
    "transaction = pd.read_csv(\"transaction.csv\")\n",
    "ratings = pd.read_csv(\"ratings.csv\")\n",
    "returns = pd.read_csv(\"returns.csv\")\n",
    "delivery = pd.read_csv(\"delivery.csv\")\n"
   ]
  },
  {
   "cell_type": "code",
   "execution_count": 43,
   "id": "a4e49f28-284a-401b-9d71-171653bd99c8",
   "metadata": {},
   "outputs": [
    {
     "data": {
      "text/html": [
       "<div>\n",
       "<style scoped>\n",
       "    .dataframe tbody tr th:only-of-type {\n",
       "        vertical-align: middle;\n",
       "    }\n",
       "\n",
       "    .dataframe tbody tr th {\n",
       "        vertical-align: top;\n",
       "    }\n",
       "\n",
       "    .dataframe thead th {\n",
       "        text-align: right;\n",
       "    }\n",
       "</style>\n",
       "<table border=\"1\" class=\"dataframe\">\n",
       "  <thead>\n",
       "    <tr style=\"text-align: right;\">\n",
       "      <th></th>\n",
       "      <th>C_ID</th>\n",
       "      <th>C_Name</th>\n",
       "      <th>Gender</th>\n",
       "      <th>Age</th>\n",
       "      <th>City</th>\n",
       "      <th>State</th>\n",
       "      <th>Street_Address</th>\n",
       "      <th>Mobile</th>\n",
       "    </tr>\n",
       "  </thead>\n",
       "  <tbody>\n",
       "    <tr>\n",
       "      <th>0</th>\n",
       "      <td>CS_11000001</td>\n",
       "      <td>Manbir Lala</td>\n",
       "      <td>Male</td>\n",
       "      <td>67</td>\n",
       "      <td>Delhi</td>\n",
       "      <td>Delhi</td>\n",
       "      <td>Park Ave, 163 , Delhi , Delhi - 529675</td>\n",
       "      <td>9607971039</td>\n",
       "    </tr>\n",
       "    <tr>\n",
       "      <th>1</th>\n",
       "      <td>CS_11000002</td>\n",
       "      <td>Radhika More</td>\n",
       "      <td>Female</td>\n",
       "      <td>51</td>\n",
       "      <td>Pune</td>\n",
       "      <td>Maharashtra</td>\n",
       "      <td>Elm St, 960 , Pune , Maharashtra - 328062</td>\n",
       "      <td>9109249091</td>\n",
       "    </tr>\n",
       "    <tr>\n",
       "      <th>2</th>\n",
       "      <td>CS_11000003</td>\n",
       "      <td>Faqid Halder</td>\n",
       "      <td>Female</td>\n",
       "      <td>57</td>\n",
       "      <td>Bengaluru</td>\n",
       "      <td>Karnataka</td>\n",
       "      <td>Maple St, 71 , Bengaluru , Karnataka - 574209</td>\n",
       "      <td>9129509047</td>\n",
       "    </tr>\n",
       "    <tr>\n",
       "      <th>3</th>\n",
       "      <td>CS_11000004</td>\n",
       "      <td>Chandresh Dugar</td>\n",
       "      <td>Female</td>\n",
       "      <td>26</td>\n",
       "      <td>Thane</td>\n",
       "      <td>Maharashtra</td>\n",
       "      <td>2nd St, 557 , Thane , Maharashtra - 329555</td>\n",
       "      <td>9351639395</td>\n",
       "    </tr>\n",
       "    <tr>\n",
       "      <th>4</th>\n",
       "      <td>CS_11000005</td>\n",
       "      <td>Logan Soni</td>\n",
       "      <td>Male</td>\n",
       "      <td>24</td>\n",
       "      <td>Ghaziabad</td>\n",
       "      <td>Uttar Pradesh</td>\n",
       "      <td>Pine St, 758 , Ghaziabad , Uttar Pradesh - 119526</td>\n",
       "      <td>9445754174</td>\n",
       "    </tr>\n",
       "  </tbody>\n",
       "</table>\n",
       "</div>"
      ],
      "text/plain": [
       "          C_ID           C_Name  Gender  Age       City          State  \\\n",
       "0  CS_11000001      Manbir Lala    Male   67      Delhi          Delhi   \n",
       "1  CS_11000002     Radhika More  Female   51       Pune    Maharashtra   \n",
       "2  CS_11000003     Faqid Halder  Female   57  Bengaluru      Karnataka   \n",
       "3  CS_11000004  Chandresh Dugar  Female   26      Thane    Maharashtra   \n",
       "4  CS_11000005       Logan Soni    Male   24  Ghaziabad  Uttar Pradesh   \n",
       "\n",
       "                                      Street_Address      Mobile  \n",
       "0             Park Ave, 163 , Delhi , Delhi - 529675  9607971039  \n",
       "1          Elm St, 960 , Pune , Maharashtra - 328062  9109249091  \n",
       "2      Maple St, 71 , Bengaluru , Karnataka - 574209  9129509047  \n",
       "3         2nd St, 557 , Thane , Maharashtra - 329555  9351639395  \n",
       "4  Pine St, 758 , Ghaziabad , Uttar Pradesh - 119526  9445754174  "
      ]
     },
     "execution_count": 43,
     "metadata": {},
     "output_type": "execute_result"
    }
   ],
   "source": [
    "customer.head()"
   ]
  },
  {
   "cell_type": "code",
   "execution_count": 45,
   "id": "841a4c4c-94b2-4144-ad9e-ff6cea29f269",
   "metadata": {},
   "outputs": [
    {
     "name": "stdout",
     "output_type": "stream",
     "text": [
      "<class 'pandas.core.frame.DataFrame'>\n",
      "RangeIndex: 10000 entries, 0 to 9999\n",
      "Data columns (total 8 columns):\n",
      " #   Column          Non-Null Count  Dtype \n",
      "---  ------          --------------  ----- \n",
      " 0   C_ID            10000 non-null  object\n",
      " 1   C_Name          10000 non-null  object\n",
      " 2   Gender          10000 non-null  object\n",
      " 3   Age             10000 non-null  int64 \n",
      " 4   City            10000 non-null  object\n",
      " 5   State           10000 non-null  object\n",
      " 6   Street_Address  10000 non-null  object\n",
      " 7   Mobile          10000 non-null  int64 \n",
      "dtypes: int64(2), object(6)\n",
      "memory usage: 625.1+ KB\n"
     ]
    }
   ],
   "source": [
    "customer.info()\n"
   ]
  },
  {
   "cell_type": "code",
   "execution_count": 47,
   "id": "7e2dd91e-3635-49da-8369-7552e2f08d76",
   "metadata": {},
   "outputs": [
    {
     "data": {
      "text/html": [
       "<div>\n",
       "<style scoped>\n",
       "    .dataframe tbody tr th:only-of-type {\n",
       "        vertical-align: middle;\n",
       "    }\n",
       "\n",
       "    .dataframe tbody tr th {\n",
       "        vertical-align: top;\n",
       "    }\n",
       "\n",
       "    .dataframe thead th {\n",
       "        text-align: right;\n",
       "    }\n",
       "</style>\n",
       "<table border=\"1\" class=\"dataframe\">\n",
       "  <thead>\n",
       "    <tr style=\"text-align: right;\">\n",
       "      <th></th>\n",
       "      <th>Age</th>\n",
       "      <th>Mobile</th>\n",
       "    </tr>\n",
       "  </thead>\n",
       "  <tbody>\n",
       "    <tr>\n",
       "      <th>count</th>\n",
       "      <td>10000.000000</td>\n",
       "      <td>1.000000e+04</td>\n",
       "    </tr>\n",
       "    <tr>\n",
       "      <th>mean</th>\n",
       "      <td>44.006400</td>\n",
       "      <td>9.503873e+09</td>\n",
       "    </tr>\n",
       "    <tr>\n",
       "      <th>std</th>\n",
       "      <td>15.325647</td>\n",
       "      <td>2.911932e+08</td>\n",
       "    </tr>\n",
       "    <tr>\n",
       "      <th>min</th>\n",
       "      <td>18.000000</td>\n",
       "      <td>9.000042e+09</td>\n",
       "    </tr>\n",
       "    <tr>\n",
       "      <th>25%</th>\n",
       "      <td>31.000000</td>\n",
       "      <td>9.250165e+09</td>\n",
       "    </tr>\n",
       "    <tr>\n",
       "      <th>50%</th>\n",
       "      <td>44.000000</td>\n",
       "      <td>9.507420e+09</td>\n",
       "    </tr>\n",
       "    <tr>\n",
       "      <th>75%</th>\n",
       "      <td>57.000000</td>\n",
       "      <td>9.756789e+09</td>\n",
       "    </tr>\n",
       "    <tr>\n",
       "      <th>max</th>\n",
       "      <td>70.000000</td>\n",
       "      <td>9.999973e+09</td>\n",
       "    </tr>\n",
       "  </tbody>\n",
       "</table>\n",
       "</div>"
      ],
      "text/plain": [
       "                Age        Mobile\n",
       "count  10000.000000  1.000000e+04\n",
       "mean      44.006400  9.503873e+09\n",
       "std       15.325647  2.911932e+08\n",
       "min       18.000000  9.000042e+09\n",
       "25%       31.000000  9.250165e+09\n",
       "50%       44.000000  9.507420e+09\n",
       "75%       57.000000  9.756789e+09\n",
       "max       70.000000  9.999973e+09"
      ]
     },
     "execution_count": 47,
     "metadata": {},
     "output_type": "execute_result"
    }
   ],
   "source": [
    "customer.describe()"
   ]
  },
  {
   "cell_type": "code",
   "execution_count": 51,
   "id": "02627d80-3de4-477d-b319-3cb039ef2040",
   "metadata": {},
   "outputs": [
    {
     "data": {
      "text/plain": [
       "0"
      ]
     },
     "execution_count": 51,
     "metadata": {},
     "output_type": "execute_result"
    }
   ],
   "source": [
    "customer.duplicated().sum()\n"
   ]
  },
  {
   "cell_type": "code",
   "execution_count": 53,
   "id": "5b865666-b636-4c85-9ee2-fa5e065effe8",
   "metadata": {},
   "outputs": [
    {
     "name": "stdout",
     "output_type": "stream",
     "text": [
      "<class 'pandas.core.frame.DataFrame'>\n",
      "RangeIndex: 10000 entries, 0 to 9999\n",
      "Data columns (total 9 columns):\n",
      " #   Column      Non-Null Count  Dtype \n",
      "---  ------      --------------  ----- \n",
      " 0   Or_ID       10000 non-null  object\n",
      " 1   C_ID        10000 non-null  object\n",
      " 2   P_ID        10000 non-null  object\n",
      " 3   Order_Date  10000 non-null  object\n",
      " 4   Order_Time  10000 non-null  object\n",
      " 5   Qty         10000 non-null  int64 \n",
      " 6   Coupon      10000 non-null  object\n",
      " 7   DP_ID       10000 non-null  object\n",
      " 8   Discount    10000 non-null  int64 \n",
      "dtypes: int64(2), object(7)\n",
      "memory usage: 703.3+ KB\n"
     ]
    }
   ],
   "source": [
    "orders.info()"
   ]
  },
  {
   "cell_type": "code",
   "execution_count": 55,
   "id": "36741d6b-fd8e-4d8f-a8df-15bc691f49f8",
   "metadata": {},
   "outputs": [
    {
     "data": {
      "text/html": [
       "<div>\n",
       "<style scoped>\n",
       "    .dataframe tbody tr th:only-of-type {\n",
       "        vertical-align: middle;\n",
       "    }\n",
       "\n",
       "    .dataframe tbody tr th {\n",
       "        vertical-align: top;\n",
       "    }\n",
       "\n",
       "    .dataframe thead th {\n",
       "        text-align: right;\n",
       "    }\n",
       "</style>\n",
       "<table border=\"1\" class=\"dataframe\">\n",
       "  <thead>\n",
       "    <tr style=\"text-align: right;\">\n",
       "      <th></th>\n",
       "      <th>Qty</th>\n",
       "      <th>Discount</th>\n",
       "    </tr>\n",
       "  </thead>\n",
       "  <tbody>\n",
       "    <tr>\n",
       "      <th>count</th>\n",
       "      <td>10000.000000</td>\n",
       "      <td>10000.000000</td>\n",
       "    </tr>\n",
       "    <tr>\n",
       "      <th>mean</th>\n",
       "      <td>5.513600</td>\n",
       "      <td>9.066700</td>\n",
       "    </tr>\n",
       "    <tr>\n",
       "      <th>std</th>\n",
       "      <td>2.882195</td>\n",
       "      <td>11.828941</td>\n",
       "    </tr>\n",
       "    <tr>\n",
       "      <th>min</th>\n",
       "      <td>1.000000</td>\n",
       "      <td>0.000000</td>\n",
       "    </tr>\n",
       "    <tr>\n",
       "      <th>25%</th>\n",
       "      <td>3.000000</td>\n",
       "      <td>0.000000</td>\n",
       "    </tr>\n",
       "    <tr>\n",
       "      <th>50%</th>\n",
       "      <td>6.000000</td>\n",
       "      <td>0.000000</td>\n",
       "    </tr>\n",
       "    <tr>\n",
       "      <th>75%</th>\n",
       "      <td>8.000000</td>\n",
       "      <td>15.000000</td>\n",
       "    </tr>\n",
       "    <tr>\n",
       "      <th>max</th>\n",
       "      <td>10.000000</td>\n",
       "      <td>50.000000</td>\n",
       "    </tr>\n",
       "  </tbody>\n",
       "</table>\n",
       "</div>"
      ],
      "text/plain": [
       "                Qty      Discount\n",
       "count  10000.000000  10000.000000\n",
       "mean       5.513600      9.066700\n",
       "std        2.882195     11.828941\n",
       "min        1.000000      0.000000\n",
       "25%        3.000000      0.000000\n",
       "50%        6.000000      0.000000\n",
       "75%        8.000000     15.000000\n",
       "max       10.000000     50.000000"
      ]
     },
     "execution_count": 55,
     "metadata": {},
     "output_type": "execute_result"
    }
   ],
   "source": [
    "orders.describe()"
   ]
  },
  {
   "cell_type": "code",
   "execution_count": 57,
   "id": "9b9d85f4-bf91-4c15-a7ed-54a589407044",
   "metadata": {},
   "outputs": [
    {
     "name": "stdout",
     "output_type": "stream",
     "text": [
      "<class 'pandas.core.frame.DataFrame'>\n",
      "RangeIndex: 10000 entries, 0 to 9999\n",
      "Data columns (total 6 columns):\n",
      " #   Column        Non-Null Count  Dtype \n",
      "---  ------        --------------  ----- \n",
      " 0   P_ID          10000 non-null  object\n",
      " 1   P_Name        10000 non-null  object\n",
      " 2   Category      10000 non-null  object\n",
      " 3   Company_Name  10000 non-null  object\n",
      " 4   Gender        10000 non-null  object\n",
      " 5   Price         10000 non-null  int64 \n",
      "dtypes: int64(1), object(5)\n",
      "memory usage: 468.9+ KB\n"
     ]
    }
   ],
   "source": [
    "products.info()"
   ]
  },
  {
   "cell_type": "code",
   "execution_count": 59,
   "id": "e8bef920-2bcf-4c0f-a81a-8322e61f2cc8",
   "metadata": {},
   "outputs": [
    {
     "name": "stdout",
     "output_type": "stream",
     "text": [
      "<class 'pandas.core.frame.DataFrame'>\n",
      "RangeIndex: 10000 entries, 0 to 9999\n",
      "Data columns (total 4 columns):\n",
      " #   Column            Non-Null Count  Dtype \n",
      "---  ------            --------------  ----- \n",
      " 0   Tr_ID             10000 non-null  object\n",
      " 1   Or_ID             10000 non-null  object\n",
      " 2   Transaction_Mode  10000 non-null  object\n",
      " 3   Reward            10000 non-null  object\n",
      "dtypes: object(4)\n",
      "memory usage: 312.6+ KB\n"
     ]
    }
   ],
   "source": [
    "transaction.info()"
   ]
  },
  {
   "cell_type": "code",
   "execution_count": 61,
   "id": "437ccb58-a31b-45c0-92a4-7f0a57e4ce9c",
   "metadata": {},
   "outputs": [
    {
     "name": "stdout",
     "output_type": "stream",
     "text": [
      "<class 'pandas.core.frame.DataFrame'>\n",
      "RangeIndex: 10000 entries, 0 to 9999\n",
      "Data columns (total 4 columns):\n",
      " #   Column                   Non-Null Count  Dtype \n",
      "---  ------                   --------------  ----- \n",
      " 0   R_ID                     10000 non-null  object\n",
      " 1   Or_ID                    10000 non-null  object\n",
      " 2   Prod_Rating              10000 non-null  int64 \n",
      " 3   Delivery_Service_Rating  10000 non-null  int64 \n",
      "dtypes: int64(2), object(2)\n",
      "memory usage: 312.6+ KB\n"
     ]
    }
   ],
   "source": [
    "ratings.info()"
   ]
  },
  {
   "cell_type": "code",
   "execution_count": 63,
   "id": "64476924-3f30-4c7c-a6d7-d2cacb8ce6bc",
   "metadata": {},
   "outputs": [
    {
     "name": "stdout",
     "output_type": "stream",
     "text": [
      "<class 'pandas.core.frame.DataFrame'>\n",
      "RangeIndex: 2000 entries, 0 to 1999\n",
      "Data columns (total 5 columns):\n",
      " #   Column         Non-Null Count  Dtype \n",
      "---  ------         --------------  ----- \n",
      " 0   RT_ID          2000 non-null   object\n",
      " 1   Or_ID          2000 non-null   object\n",
      " 2   Reason         2000 non-null   object\n",
      " 3   Return_Refund  2000 non-null   object\n",
      " 4   Dates          2000 non-null   object\n",
      "dtypes: object(5)\n",
      "memory usage: 78.3+ KB\n"
     ]
    }
   ],
   "source": [
    "returns.info()"
   ]
  },
  {
   "cell_type": "code",
   "execution_count": 67,
   "id": "cd7808ef-8f52-4951-bac2-52b574dbd639",
   "metadata": {},
   "outputs": [
    {
     "name": "stdout",
     "output_type": "stream",
     "text": [
      "<class 'pandas.core.frame.DataFrame'>\n",
      "RangeIndex: 5 entries, 0 to 4\n",
      "Data columns (total 4 columns):\n",
      " #   Column       Non-Null Count  Dtype \n",
      "---  ------       --------------  ----- \n",
      " 0   DP_ID        5 non-null      object\n",
      " 1   DP_name      5 non-null      object\n",
      " 2   DP_Ratings   5 non-null      int64 \n",
      " 3   Percent_Cut  5 non-null      int64 \n",
      "dtypes: int64(2), object(2)\n",
      "memory usage: 292.0+ bytes\n"
     ]
    }
   ],
   "source": [
    "delivery.info()"
   ]
  },
  {
   "cell_type": "markdown",
   "id": "fa78c844-6eea-40c8-8367-860ab1d24150",
   "metadata": {},
   "source": [
    "## Unique customers"
   ]
  },
  {
   "cell_type": "code",
   "execution_count": 110,
   "id": "76b6937a-c8b7-4965-b355-05fc1af0d262",
   "metadata": {},
   "outputs": [
    {
     "data": {
      "text/plain": [
       "10000"
      ]
     },
     "execution_count": 110,
     "metadata": {},
     "output_type": "execute_result"
    }
   ],
   "source": [
    "customer['C_ID'].nunique()    # Count of unique customer IDs\n"
   ]
  },
  {
   "cell_type": "markdown",
   "id": "1702356a-6512-421e-a5c2-ed412d157b5f",
   "metadata": {},
   "source": [
    "## Total orders placed"
   ]
  },
  {
   "cell_type": "code",
   "execution_count": 115,
   "id": "6fe45690-33eb-47b7-992d-c705f2c51e6c",
   "metadata": {},
   "outputs": [
    {
     "data": {
      "text/plain": [
       "10000"
      ]
     },
     "execution_count": 115,
     "metadata": {},
     "output_type": "execute_result"
    }
   ],
   "source": [
    "orders['Or_ID'].nunique()   #Total number of orders\n"
   ]
  },
  {
   "cell_type": "markdown",
   "id": "de418826-aa6a-4761-808b-6a0f6cda158c",
   "metadata": {},
   "source": [
    "## Gender distribution "
   ]
  },
  {
   "cell_type": "code",
   "execution_count": 449,
   "id": "4007f4ed-fccf-4eae-86c2-0c8751b1ec9f",
   "metadata": {},
   "outputs": [
    {
     "name": "stdout",
     "output_type": "stream",
     "text": [
      "Gender\n",
      "Male      5080\n",
      "Female    4920\n",
      "Name: count, dtype: int64\n"
     ]
    },
    {
     "data": {
      "text/plain": [
       "<Axes: title={'center': 'Gender Distribution'}>"
      ]
     },
     "execution_count": 449,
     "metadata": {},
     "output_type": "execute_result"
    },
    {
     "data": {
      "image/png": "[encoded data removed]",
      "text/plain": [
       "<Figure size 300x300 with 1 Axes>"
      ]
     },
     "metadata": {},
     "output_type": "display_data"
    }
   ],
   "source": [
    "print(customer['Gender'].value_counts())\n",
    "\n",
    "customer['Gender'].value_counts().plot.pie(autopct='%1.1f%%',\n",
    "title='Gender Distribution',\n",
    "figsize=(3, 3),\n",
    "colors=['#0074CC', '#CCCCCC'],\n",
    "ylabel='',startangle=65 )  # Pie chart shows the male vs female customer percentage."
   ]
  },
  {
   "cell_type": "markdown",
   "id": "fca33701-67d4-41d7-bcb5-072d1fcd5294",
   "metadata": {},
   "source": [
    "## Top 5 Cities by Number of Customers"
   ]
  },
  {
   "cell_type": "code",
   "execution_count": 414,
   "id": "9cc3df29-05e9-4341-bdf3-af1ec1814b9f",
   "metadata": {},
   "outputs": [
    {
     "data": {
      "text/plain": [
       "City\n",
       "Vadodara    531\n",
       "Surat       529\n",
       "Jaipur      525\n",
       "Kanpur      520\n",
       "Patna       518\n",
       "Name: count, dtype: int64"
      ]
     },
     "execution_count": 414,
     "metadata": {},
     "output_type": "execute_result"
    }
   ],
   "source": [
    "customer['City'].value_counts().head(5)"
   ]
  },
  {
   "cell_type": "markdown",
   "id": "597c1cdb-ea5a-4a67-ab5a-17f20f4dc461",
   "metadata": {},
   "source": [
    "## Top 5 states by number of customers"
   ]
  },
  {
   "cell_type": "code",
   "execution_count": 445,
   "id": "78673a6c-eb5c-4964-8a55-49bba036e867",
   "metadata": {},
   "outputs": [
    {
     "name": "stdout",
     "output_type": "stream",
     "text": [
      "State\n",
      "Maharashtra       1949\n",
      "Gujarat           1571\n",
      "Uttar Pradesh     1501\n",
      "Madhya Pradesh     965\n",
      "Rajasthan          525\n",
      "Name: count, dtype: int64\n"
     ]
    },
    {
     "data": {
      "image/png": "[encoded data removed]",
      "text/plain": [
       "<Figure size 500x300 with 1 Axes>"
      ]
     },
     "metadata": {},
     "output_type": "display_data"
    }
   ],
   "source": [
    "print(customer['State'].value_counts().head(5))\n",
    "\n",
    "plt.figure(figsize=(5, 3))\n",
    "\n",
    "customer['State'].value_counts().head(5).plot(\n",
    "    kind='bar',\n",
    "    color='#0074CC',\n",
    "    title='Top 5 States by Customers'\n",
    ")\n",
    "\n",
    "plt.xlabel(\"\")\n",
    "\n",
    "plt.xticks(rotation=45)\n",
    "plt.tight_layout()\n",
    "plt.show()\n"
   ]
  },
  {
   "cell_type": "markdown",
   "id": "7fc1a327-f879-40b8-aa0d-ec6e2e29fa6f",
   "metadata": {},
   "source": [
    "## Top 5 most ordered product categories"
   ]
  },
  {
   "cell_type": "code",
   "execution_count": 306,
   "id": "25631ccd-0f66-4ccb-a63f-53ef66fcbc60",
   "metadata": {},
   "outputs": [
    {
     "data": {
      "image/png": "[encoded data removed]",
      "text/plain": [
       "<Figure size 500x300 with 1 Axes>"
      ]
     },
     "metadata": {},
     "output_type": "display_data"
    }
   ],
   "source": [
    "orders_products = orders.merge(products, on='P_ID')\n",
    "top_categories = orders_products.groupby('Category')['Qty'].sum().sort_values(ascending=False).head(5)\n",
    "\n",
    "plt.figure(figsize=(5, 3))\n",
    "top_categories.plot(\n",
    "    kind='bar', \n",
    "    color='#0074CC', \n",
    "    title='Top 5 Categories by Quantity Ordered'\n",
    ")\n",
    "\n",
    "plt.xlabel('')\n",
    "plt.ylabel('')\n",
    "plt.xticks(rotation=45)\n",
    "plt.tight_layout()\n",
    "plt.show()\n"
   ]
  },
  {
   "cell_type": "markdown",
   "id": "faad5cee-bd63-417e-b2d1-76889ee4fddf",
   "metadata": {},
   "source": [
    "## Average quantity per order\n"
   ]
  },
  {
   "cell_type": "code",
   "execution_count": 281,
   "id": "64803f2b-8f7d-463e-bfd9-a03032f79cca",
   "metadata": {},
   "outputs": [
    {
     "data": {
      "text/plain": [
       "5.5136"
      ]
     },
     "execution_count": 281,
     "metadata": {},
     "output_type": "execute_result"
    }
   ],
   "source": [
    "orders['Qty'].mean()  "
   ]
  },
  {
   "cell_type": "markdown",
   "id": "479e2da3-859c-498d-9ba2-ecbe5d56b24c",
   "metadata": {},
   "source": [
    " ## Top 5 most purchased products by quantity"
   ]
  },
  {
   "cell_type": "code",
   "execution_count": 279,
   "id": "76a36f3f-a37e-450b-b5f3-d562fa8102f4",
   "metadata": {},
   "outputs": [
    {
     "name": "stdout",
     "output_type": "stream",
     "text": [
      "P_Name\n",
      "Shift Cotton Charcoal Polka Dot Dress               43\n",
      "Single-Breasted Linen Navy Blue Checkered Blazer    42\n",
      "Pleated Mesh Gray Textured Shorts                   40\n",
      "Pencil Silk Brown Floral Skirt                      37\n",
      " Cotton Maroon Ribbed Shorts                        37\n",
      "Name: Qty, dtype: int64\n"
     ]
    }
   ],
   "source": [
    "orders_merged = pd.merge(orders, products, on='P_ID')\n",
    "top_products = orders_merged.groupby('P_Name')['Qty'].sum().sort_values(ascending=False).head(5)\n",
    "print(top_products)\n"
   ]
  },
  {
   "cell_type": "markdown",
   "id": "94f1cd8f-b242-460a-8b85-5d2b5a383083",
   "metadata": {},
   "source": [
    "##  Most preferred payment method"
   ]
  },
  {
   "cell_type": "code",
   "execution_count": 443,
   "id": "4a8e68fd-bf28-4334-9752-7ad40d36e7d8",
   "metadata": {},
   "outputs": [
    {
     "data": {
      "image/png": "[encoded data removed]",
      "text/plain": [
       "<Figure size 400x400 with 1 Axes>"
      ]
     },
     "metadata": {},
     "output_type": "display_data"
    }
   ],
   "source": [
    "\n",
    "transaction['Transaction_Mode'].value_counts().plot(\n",
    "    kind='pie',\n",
    "    autopct='%1.1f%%',\n",
    "    figsize=(4, 4),\n",
    "    colors=['#003366', '#005B96', '#0074CC', '#3399FF', '#66B2FF'], \n",
    "    title='Preferred Payment Method'\n",
    ")\n",
    "\n",
    "plt.ylabel('')\n",
    "plt.show()\n"
   ]
  },
  {
   "cell_type": "markdown",
   "id": "906d86a2-6d25-4beb-8ae6-901acf5ab36f",
   "metadata": {},
   "source": [
    "## The average order value (AOV)"
   ]
  },
  {
   "cell_type": "code",
   "execution_count": 476,
   "id": "b9daf9fe-2d66-42bd-87ae-8ed88f311192",
   "metadata": {
    "scrolled": true
   },
   "outputs": [
    {
     "name": "stdout",
     "output_type": "stream",
     "text": [
      "Average Order Value: 9732.7078\n"
     ]
    }
   ],
   "source": [
    "orders_txn = pd.merge(orders, products, on='P_ID')\n",
    "orders_txn['Total_Amount'] = orders_txn['Price'] * orders_txn['Qty'] # Calculate total amount for each product in an order\n",
    "aov = orders_txn.groupby('Or_ID')['Total_Amount'].sum().mean()\n",
    "print(\"Average Order Value:\", aov)\n"
   ]
  },
  {
   "cell_type": "markdown",
   "id": "783b2094-7da1-4086-b5dc-a30ad9f2784a",
   "metadata": {},
   "source": [
    "## Distribution of product ratings"
   ]
  },
  {
   "cell_type": "code",
   "execution_count": 346,
   "id": "3ee3f726-6f1b-41db-b76c-8beae0a3639b",
   "metadata": {},
   "outputs": [
    {
     "data": {
      "text/plain": [
       "Prod_Rating\n",
       "3    2052\n",
       "4    2012\n",
       "2    2003\n",
       "1    1988\n",
       "5    1945\n",
       "Name: count, dtype: int64"
      ]
     },
     "execution_count": 346,
     "metadata": {},
     "output_type": "execute_result"
    }
   ],
   "source": [
    "ratings['Prod_Rating'].value_counts()\n"
   ]
  },
  {
   "cell_type": "markdown",
   "id": "b3385d22-f2eb-4c1a-bca4-8f9e1569e06d",
   "metadata": {},
   "source": [
    "## Top 3 return reasons"
   ]
  },
  {
   "cell_type": "code",
   "execution_count": 437,
   "id": "625e1e34-9982-46e7-9e0f-d993d0692435",
   "metadata": {},
   "outputs": [
    {
     "name": "stdout",
     "output_type": "stream",
     "text": [
      "Reason\n",
      "Defective Product     670\n",
      "Wrong Item Shipped    668\n",
      "Late Delivery         662\n",
      "Name: count, dtype: int64\n"
     ]
    },
    {
     "data": {
      "image/png": "[encoded data removed]",
      "text/plain": [
       "<Figure size 600x300 with 1 Axes>"
      ]
     },
     "metadata": {},
     "output_type": "display_data"
    }
   ],
   "source": [
    "print(returns['Reason'].value_counts())\n",
    "\n",
    "plt.figure(figsize=(6,3))  \n",
    "returns['Reason'].value_counts().head(3).plot(\n",
    "    kind='bar',\n",
    "    title='Top 3 Return Reasons',\n",
    "    color=['#005DAA', '#2B84D9', '#A7C6ED'] \n",
    ")\n",
    "plt.xticks(rotation=0)\n",
    "plt.xlabel(\"Reason for Return\")\n",
    "plt.ylabel(\"Count\")\n",
    "plt.tight_layout()\n",
    "plt.show()\n"
   ]
  },
  {
   "cell_type": "markdown",
   "id": "42b3326e-61d7-4d3d-8b32-fc9699d41d65",
   "metadata": {},
   "source": [
    "## Categories have the most returns"
   ]
  },
  {
   "cell_type": "code",
   "execution_count": 431,
   "id": "1676a266-5b9e-489d-ad9b-2ae49ba06929",
   "metadata": {},
   "outputs": [
    {
     "name": "stdout",
     "output_type": "stream",
     "text": [
      "Category\n",
      "Shirt      221\n",
      "Blazer     220\n",
      "Sweater    213\n",
      "Shorts     207\n",
      "Skirt      197\n",
      "Name: count, dtype: int64\n"
     ]
    },
    {
     "data": {
      "image/png": "[encoded data removed]",
      "text/plain": [
       "<Figure size 500x300 with 1 Axes>"
      ]
     },
     "metadata": {},
     "output_type": "display_data"
    }
   ],
   "source": [
    "print(returns_merged['Category'].value_counts().head(5))\n",
    "\n",
    "plt.figure(figsize=(5, 3))\n",
    "returns_merged['Category'].value_counts().head(5).plot(\n",
    "    kind='bar',\n",
    "    color='#0074CC'  \n",
    ")\n",
    "plt.title('Top 5 Returned Categories')  \n",
    "plt.xlabel('')\n",
    "plt.ylabel('')\n",
    "plt.xticks(rotation=0)\n",
    "plt.tight_layout()\n",
    "plt.show()\n"
   ]
  },
  {
   "cell_type": "markdown",
   "id": "3f50dd14-37fc-4dbb-b93e-99140def4953",
   "metadata": {},
   "source": [
    "## How many people used coupons"
   ]
  },
  {
   "cell_type": "code",
   "execution_count": 387,
   "id": "4c9db690-5247-49c7-b1ca-fdd36a12e471",
   "metadata": {},
   "outputs": [
    {
     "data": {
      "text/plain": [
       "Used_Coupon\n",
       "False    5011\n",
       "True     4989\n",
       "Name: count, dtype: int64"
      ]
     },
     "execution_count": 387,
     "metadata": {},
     "output_type": "execute_result"
    }
   ],
   "source": [
    "orders_merged['Used_Coupon'] = orders_merged['Coupon'] != 'No Coupon'\n",
    "orders_merged['Used_Coupon'].value_counts()\n",
    "\n"
   ]
  },
  {
   "cell_type": "markdown",
   "id": "6b41a2e4-bd62-496f-b4bd-ba0d0bf49fe5",
   "metadata": {},
   "source": [
    "## Average product rating"
   ]
  },
  {
   "cell_type": "code",
   "execution_count": 402,
   "id": "d64fb9a6-a425-4bc5-b810-bcce8952c88b",
   "metadata": {},
   "outputs": [
    {
     "data": {
      "text/plain": [
       "2.9923"
      ]
     },
     "execution_count": 402,
     "metadata": {},
     "output_type": "execute_result"
    }
   ],
   "source": [
    "ratings['Prod_Rating'].mean()\n"
   ]
  },
  {
   "cell_type": "code",
   "execution_count": 453,
   "id": "21c770ba-87b2-4c70-bdff-58589006c673",
   "metadata": {},
   "outputs": [
    {
     "name": "stdout",
     "output_type": "stream",
     "text": [
      "Top Companies by Orders (Quantity Sold):\n",
      "Company_Name\n",
      "Puma          6216\n",
      "Reebok        5917\n",
      "Zara          5723\n",
      "H&M           5546\n",
      "Pantaloons    5474\n",
      "Name: Qty, dtype: int64\n"
     ]
    },
    {
     "data": {
      "image/png": "[encoded data removed]",
      "text/plain": [
       "<Figure size 500x300 with 1 Axes>"
      ]
     },
     "metadata": {},
     "output_type": "display_data"
    }
   ],
   "source": [
    "orders_products = orders.merge(products, on='P_ID')\n",
    "\n",
    "top_companies = orders_products.groupby('Company_Name')['Qty'].sum().sort_values(ascending=False).head(5)\n",
    "\n",
    "print(\"Top Companies by Orders (Quantity Sold):\")\n",
    "print(top_companies)\n",
    "\n",
    "plt.figure(figsize=(5, 3))\n",
    "top_companies.plot(\n",
    "    kind='bar',\n",
    "    color='#0074CC',\n",
    "    title='Top 5 Companies by Quantity Ordered'\n",
    ")\n",
    "plt.xlabel('')\n",
    "plt.ylabel('')\n",
    "plt.xticks(rotation=0)\n",
    "plt.tight_layout()\n",
    "plt.show()"
   ]
  },
  {
   "cell_type": "markdown",
   "id": "0c689ace-bb08-4f9c-9427-10f2b29c10ba",
   "metadata": {},
   "source": [
    "# Insights  <img src=\"insight.png\" width=\"90\"/>"
   ]
  },
  {
   "cell_type": "markdown",
   "id": "4a3702ea-e2bd-4a15-8f05-9b09f1907b91",
   "metadata": {},
   "source": [
    "\n",
    "## Gender Split: Male 51%, Female 49%\n",
    "## Top Cities: Vadodara, Surat, Jaipur\n",
    "## Popular Categories: Blazers, Shorts, Jeans\n",
    "## Top Brands: Puma, Reebok, Zara\n",
    "## Payment Mode: Net Banking (20.6%)\n",
    "## Common Return Reasons: Defective products, Wrong items\n",
    "## Avg. Order Value: ₹9,732 | Avg. Quantity/Order: 5.5\n",
    "## Ratings: Product : 2.99 \n",
    "## Nearly 50% customers used coupons"
   ]
  },
  {
   "cell_type": "code",
   "execution_count": null,
   "id": "816b22dc-15f2-46f3-91fd-ff4388ca5a8b",
   "metadata": {},
   "outputs": [],
   "source": []
  }
 ],
 "metadata": {
  "kernelspec": {
   "display_name": "Python 3 (ipykernel)",
   "language": "python",
   "name": "python3"
  },
  "language_info": {
   "codemirror_mode": {
    "name": "ipython",
    "version": 3
   },
   "file_extension": ".py",
   "mimetype": "text/x-python",
   "name": "python",
   "nbconvert_exporter": "python",
   "pygments_lexer": "ipython3",
   "version": "3.12.7"
  }
 },
 "nbformat": 4,
 "nbformat_minor": 5
}
